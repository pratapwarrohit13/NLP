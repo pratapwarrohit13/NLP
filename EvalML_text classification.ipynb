{
 "cells": [
  {
   "cell_type": "code",
   "execution_count": 1,
   "id": "focal-burning",
   "metadata": {},
   "outputs": [
    {
     "name": "stdout",
     "output_type": "stream",
     "text": [
      "Requirement already satisfied: evalml in c:\\users\\rohit.pratapwar\\anaconda3\\lib\\site-packages (0.18.2)Note: you may need to restart the kernel to use updated packages.\n",
      "Requirement already satisfied: ipywidgets>=7.5 in c:\\users\\rohit.pratapwar\\anaconda3\\lib\\site-packages (from evalml) (7.6.3)\n",
      "Requirement already satisfied: matplotlib>=3.3.3 in c:\\users\\rohit.pratapwar\\anaconda3\\lib\\site-packages (from evalml) (3.3.4)\n",
      "Requirement already satisfied: networkx>=2.5 in c:\\users\\rohit.pratapwar\\anaconda3\\lib\\site-packages (from evalml) (2.5)\n",
      "Requirement already satisfied: click>=7.0.0 in c:\\users\\rohit.pratapwar\\anaconda3\\lib\\site-packages (from evalml) (7.1.2)\n",
      "Collecting pandas<1.2.0,>=1.1.0\n",
      "  Using cached pandas-1.1.5-cp37-cp37m-win_amd64.whl (8.7 MB)\n",
      "Requirement already satisfied: requirements-parser>=0.2.0 in c:\\users\\rohit.pratapwar\\anaconda3\\lib\\site-packages (from evalml) (0.2.0)\n",
      "Requirement already satisfied: cloudpickle>=0.2.2 in c:\\users\\rohit.pratapwar\\anaconda3\\lib\\site-packages (from evalml) (1.6.0)\n",
      "Requirement already satisfied: graphviz>=0.13 in c:\\users\\rohit.pratapwar\\anaconda3\\lib\\site-packages (from evalml) (0.16)\n",
      "Requirement already satisfied: plotly>=4.14.0 in c:\\users\\rohit.pratapwar\\anaconda3\\lib\\site-packages (from evalml) (4.14.3)\n",
      "Requirement already satisfied: psutil>=5.6.3 in c:\\users\\rohit.pratapwar\\anaconda3\\lib\\site-packages (from evalml) (5.8.0)\n",
      "Requirement already satisfied: numpy>=1.19.1 in c:\\users\\rohit.pratapwar\\anaconda3\\lib\\site-packages (from evalml) (1.19.2)\n",
      "Requirement already satisfied: catboost>=0.20 in c:\\users\\rohit.pratapwar\\anaconda3\\lib\\site-packages (from evalml) (0.24.4)\n",
      "Requirement already satisfied: xgboost<1.3.0,>=0.82 in c:\\users\\rohit.pratapwar\\anaconda3\\lib\\site-packages (from evalml) (1.2.1)\n",
      "Requirement already satisfied: woodwork==0.0.7 in c:\\users\\rohit.pratapwar\\anaconda3\\lib\\site-packages (from evalml) (0.0.7)\n",
      "Requirement already satisfied: pyzmq<22.0.0 in c:\\users\\rohit.pratapwar\\anaconda3\\lib\\site-packages (from evalml) (20.0.0)\n",
      "Requirement already satisfied: shap>=0.35.0 in c:\\users\\rohit.pratapwar\\anaconda3\\lib\\site-packages (from evalml) (0.38.1)\n",
      "Requirement already satisfied: texttable>=1.6.2 in c:\\users\\rohit.pratapwar\\anaconda3\\lib\\site-packages (from evalml) (1.6.3)\n",
      "Requirement already satisfied: featuretools>=0.20.0 in c:\\users\\rohit.pratapwar\\anaconda3\\lib\\site-packages (from evalml) (0.23.1)\n",
      "Requirement already satisfied: category-encoders>=2.0.0 in c:\\users\\rohit.pratapwar\\anaconda3\\lib\\site-packages (from evalml) (2.2.2)\n",
      "Requirement already satisfied: scipy>=1.2.1 in c:\\users\\rohit.pratapwar\\anaconda3\\lib\\site-packages (from evalml) (1.6.0)\n",
      "\n",
      "Requirement already satisfied: kaleido>=0.1.0 in c:\\users\\rohit.pratapwar\\anaconda3\\lib\\site-packages (from evalml) (0.1.0.post1)\n",
      "Collecting lightgbm<3.1.0,>=2.3.1\n",
      "  Using cached lightgbm-3.0.0-py2.py3-none-win_amd64.whl (737 kB)\n",
      "Requirement already satisfied: scikit-learn>=0.23.1 in c:\\users\\rohit.pratapwar\\anaconda3\\lib\\site-packages (from evalml) (0.23.2)\n",
      "Requirement already satisfied: seaborn>=0.11.1 in c:\\users\\rohit.pratapwar\\anaconda3\\lib\\site-packages (from evalml) (0.11.1)\n",
      "Requirement already satisfied: colorama in c:\\users\\rohit.pratapwar\\anaconda3\\lib\\site-packages (from evalml) (0.4.4)\n",
      "Requirement already satisfied: nlp-primitives>=1.1.0 in c:\\users\\rohit.pratapwar\\anaconda3\\lib\\site-packages (from evalml) (1.1.0)\n",
      "Requirement already satisfied: scikit-optimize>=0.8.1 in c:\\users\\rohit.pratapwar\\anaconda3\\lib\\site-packages (from evalml) (0.8.1)\n",
      "Requirement already satisfied: pyarrow>=2.0.0 in c:\\users\\rohit.pratapwar\\anaconda3\\lib\\site-packages (from woodwork==0.0.7->evalml) (3.0.0)\n",
      "Requirement already satisfied: six in c:\\users\\rohit.pratapwar\\anaconda3\\lib\\site-packages (from catboost>=0.20->evalml) (1.15.0)\n",
      "Requirement already satisfied: patsy>=0.5.1 in c:\\users\\rohit.pratapwar\\anaconda3\\lib\\site-packages (from category-encoders>=2.0.0->evalml) (0.5.1)\n",
      "Requirement already satisfied: statsmodels>=0.9.0 in c:\\users\\rohit.pratapwar\\anaconda3\\lib\\site-packages (from category-encoders>=2.0.0->evalml) (0.12.1)\n",
      "Requirement already satisfied: dask[dataframe]>=2.12.0 in c:\\users\\rohit.pratapwar\\anaconda3\\lib\\site-packages (from featuretools>=0.20.0->evalml) (2021.1.1)\n",
      "Requirement already satisfied: pyyaml>=3.12 in c:\\users\\rohit.pratapwar\\anaconda3\\lib\\site-packages (from featuretools>=0.20.0->evalml) (5.3)\n",
      "Requirement already satisfied: tqdm>=4.32.0 in c:\\users\\rohit.pratapwar\\anaconda3\\lib\\site-packages (from featuretools>=0.20.0->evalml) (4.56.0)\n",
      "Requirement already satisfied: distributed>=2.12.0 in c:\\users\\rohit.pratapwar\\anaconda3\\lib\\site-packages (from featuretools>=0.20.0->evalml) (2021.1.1)\n",
      "Requirement already satisfied: fsspec>=0.6.0 in c:\\users\\rohit.pratapwar\\anaconda3\\lib\\site-packages (from dask[dataframe]>=2.12.0->featuretools>=0.20.0->evalml) (0.8.3)\n",
      "Requirement already satisfied: partd>=0.3.10 in c:\\users\\rohit.pratapwar\\anaconda3\\lib\\site-packages (from dask[dataframe]>=2.12.0->featuretools>=0.20.0->evalml) (1.1.0)\n",
      "Requirement already satisfied: toolz>=0.8.2 in c:\\users\\rohit.pratapwar\\anaconda3\\lib\\site-packages (from dask[dataframe]>=2.12.0->featuretools>=0.20.0->evalml) (0.11.1)\n",
      "Requirement already satisfied: setuptools in c:\\users\\rohit.pratapwar\\anaconda3\\lib\\site-packages (from distributed>=2.12.0->featuretools>=0.20.0->evalml) (56.0.0)\n",
      "Requirement already satisfied: msgpack>=0.6.0 in c:\\users\\rohit.pratapwar\\anaconda3\\lib\\site-packages (from distributed>=2.12.0->featuretools>=0.20.0->evalml) (1.0.2)\n",
      "Requirement already satisfied: zict>=0.1.3 in c:\\users\\rohit.pratapwar\\anaconda3\\lib\\site-packages (from distributed>=2.12.0->featuretools>=0.20.0->evalml) (2.0.0)\n",
      "Requirement already satisfied: sortedcontainers!=2.0.0,!=2.0.1 in c:\\users\\rohit.pratapwar\\anaconda3\\lib\\site-packages (from distributed>=2.12.0->featuretools>=0.20.0->evalml) (2.3.0)\n",
      "Requirement already satisfied: tornado>=5 in c:\\users\\rohit.pratapwar\\anaconda3\\lib\\site-packages (from distributed>=2.12.0->featuretools>=0.20.0->evalml) (6.1)\n",
      "Requirement already satisfied: tblib>=1.6.0 in c:\\users\\rohit.pratapwar\\anaconda3\\lib\\site-packages (from distributed>=2.12.0->featuretools>=0.20.0->evalml) (1.7.0)\n",
      "Requirement already satisfied: widgetsnbextension~=3.5.0 in c:\\users\\rohit.pratapwar\\anaconda3\\lib\\site-packages (from ipywidgets>=7.5->evalml) (3.5.1)\n",
      "Requirement already satisfied: ipykernel>=4.5.1 in c:\\users\\rohit.pratapwar\\anaconda3\\lib\\site-packages (from ipywidgets>=7.5->evalml) (5.3.4)\n",
      "Requirement already satisfied: jupyterlab-widgets>=1.0.0 in c:\\users\\rohit.pratapwar\\anaconda3\\lib\\site-packages (from ipywidgets>=7.5->evalml) (1.0.0)\n",
      "Requirement already satisfied: ipython>=4.0.0 in c:\\users\\rohit.pratapwar\\anaconda3\\lib\\site-packages (from ipywidgets>=7.5->evalml) (7.20.0)\n",
      "Requirement already satisfied: traitlets>=4.3.1 in c:\\users\\rohit.pratapwar\\anaconda3\\lib\\site-packages (from ipywidgets>=7.5->evalml) (5.0.5)\n",
      "Requirement already satisfied: nbformat>=4.2.0 in c:\\users\\rohit.pratapwar\\anaconda3\\lib\\site-packages (from ipywidgets>=7.5->evalml) (5.1.2)\n",
      "Requirement already satisfied: jupyter-client in c:\\users\\rohit.pratapwar\\anaconda3\\lib\\site-packages (from ipykernel>=4.5.1->ipywidgets>=7.5->evalml) (6.1.7)"
     ]
    },
    {
     "name": "stderr",
     "output_type": "stream",
     "text": [
      "ERROR: pip's dependency resolver does not currently take into account all the packages that are installed. This behaviour is the source of the following dependency conflicts.\n",
      "automl 2.9.9 requires dill<0.3,>=0.2.5, but you have dill 0.3.3 which is incompatible.\n",
      "automl 2.9.9 requires lightgbm<2.1,>=2.0.11, but you have lightgbm 3.0.0 which is incompatible.\n",
      "automl 2.9.9 requires pandas<1.0,>=0.18.0, but you have pandas 1.1.5 which is incompatible.\n"
     ]
    },
    {
     "name": "stdout",
     "output_type": "stream",
     "text": [
      "\n",
      "Requirement already satisfied: jedi>=0.16 in c:\\users\\rohit.pratapwar\\anaconda3\\lib\\site-packages (from ipython>=4.0.0->ipywidgets>=7.5->evalml) (0.18.0)\n",
      "Requirement already satisfied: prompt-toolkit!=3.0.0,!=3.0.1,<3.1.0,>=2.0.0 in c:\\users\\rohit.pratapwar\\anaconda3\\lib\\site-packages (from ipython>=4.0.0->ipywidgets>=7.5->evalml) (3.0.8)\n",
      "Requirement already satisfied: backcall in c:\\users\\rohit.pratapwar\\anaconda3\\lib\\site-packages (from ipython>=4.0.0->ipywidgets>=7.5->evalml) (0.2.0)\n",
      "Requirement already satisfied: decorator in c:\\users\\rohit.pratapwar\\anaconda3\\lib\\site-packages (from ipython>=4.0.0->ipywidgets>=7.5->evalml) (4.4.2)\n",
      "Requirement already satisfied: pygments in c:\\users\\rohit.pratapwar\\anaconda3\\lib\\site-packages (from ipython>=4.0.0->ipywidgets>=7.5->evalml) (2.7.4)\n",
      "Requirement already satisfied: pickleshare in c:\\users\\rohit.pratapwar\\anaconda3\\lib\\site-packages (from ipython>=4.0.0->ipywidgets>=7.5->evalml) (0.7.5)\n",
      "Requirement already satisfied: parso<0.9.0,>=0.8.0 in c:\\users\\rohit.pratapwar\\anaconda3\\lib\\site-packages (from jedi>=0.16->ipython>=4.0.0->ipywidgets>=7.5->evalml) (0.8.1)\n",
      "Requirement already satisfied: pyparsing!=2.0.4,!=2.1.2,!=2.1.6,>=2.0.3 in c:\\users\\rohit.pratapwar\\anaconda3\\lib\\site-packages (from matplotlib>=3.3.3->evalml) (2.4.7)\n",
      "Requirement already satisfied: pillow>=6.2.0 in c:\\users\\rohit.pratapwar\\anaconda3\\lib\\site-packages (from matplotlib>=3.3.3->evalml) (8.1.0)\n",
      "Requirement already satisfied: kiwisolver>=1.0.1 in c:\\users\\rohit.pratapwar\\anaconda3\\lib\\site-packages (from matplotlib>=3.3.3->evalml) (1.3.1)\n",
      "Requirement already satisfied: cycler>=0.10 in c:\\users\\rohit.pratapwar\\anaconda3\\lib\\site-packages (from matplotlib>=3.3.3->evalml) (0.10.0)\n",
      "Requirement already satisfied: python-dateutil>=2.1 in c:\\users\\rohit.pratapwar\\anaconda3\\lib\\site-packages (from matplotlib>=3.3.3->evalml) (2.8.1)\n",
      "Requirement already satisfied: jsonschema!=2.5.0,>=2.4 in c:\\users\\rohit.pratapwar\\anaconda3\\lib\\site-packages (from nbformat>=4.2.0->ipywidgets>=7.5->evalml) (3.2.0)\n",
      "Requirement already satisfied: jupyter-core in c:\\users\\rohit.pratapwar\\anaconda3\\lib\\site-packages (from nbformat>=4.2.0->ipywidgets>=7.5->evalml) (4.7.1)\n",
      "Requirement already satisfied: ipython-genutils in c:\\users\\rohit.pratapwar\\anaconda3\\lib\\site-packages (from nbformat>=4.2.0->ipywidgets>=7.5->evalml) (0.2.0)\n",
      "Requirement already satisfied: importlib-metadata in c:\\users\\rohit.pratapwar\\anaconda3\\lib\\site-packages (from jsonschema!=2.5.0,>=2.4->nbformat>=4.2.0->ipywidgets>=7.5->evalml) (2.0.0)\n",
      "Requirement already satisfied: pyrsistent>=0.14.0 in c:\\users\\rohit.pratapwar\\anaconda3\\lib\\site-packages (from jsonschema!=2.5.0,>=2.4->nbformat>=4.2.0->ipywidgets>=7.5->evalml) (0.17.3)\n",
      "Requirement already satisfied: attrs>=17.4.0 in c:\\users\\rohit.pratapwar\\anaconda3\\lib\\site-packages (from jsonschema!=2.5.0,>=2.4->nbformat>=4.2.0->ipywidgets>=7.5->evalml) (20.3.0)\n",
      "Requirement already satisfied: nltk>=3.4.5 in c:\\users\\rohit.pratapwar\\anaconda3\\lib\\site-packages (from nlp-primitives>=1.1.0->evalml) (3.5)\n",
      "Requirement already satisfied: regex in c:\\users\\rohit.pratapwar\\anaconda3\\lib\\site-packages (from nltk>=3.4.5->nlp-primitives>=1.1.0->evalml) (2020.11.13)\n",
      "Requirement already satisfied: joblib in c:\\users\\rohit.pratapwar\\anaconda3\\lib\\site-packages (from nltk>=3.4.5->nlp-primitives>=1.1.0->evalml) (1.0.0)\n",
      "Requirement already satisfied: pytz>=2017.2 in c:\\users\\rohit.pratapwar\\anaconda3\\lib\\site-packages (from pandas<1.2.0,>=1.1.0->evalml) (2021.1)\n",
      "Requirement already satisfied: locket in c:\\users\\rohit.pratapwar\\anaconda3\\lib\\site-packages\\locket-0.2.1-py3.7.egg (from partd>=0.3.10->dask[dataframe]>=2.12.0->featuretools>=0.20.0->evalml) (0.2.1)\n",
      "Requirement already satisfied: retrying>=1.3.3 in c:\\users\\rohit.pratapwar\\anaconda3\\lib\\site-packages (from plotly>=4.14.0->evalml) (1.3.3)\n",
      "Requirement already satisfied: wcwidth in c:\\users\\rohit.pratapwar\\anaconda3\\lib\\site-packages (from prompt-toolkit!=3.0.0,!=3.0.1,<3.1.0,>=2.0.0->ipython>=4.0.0->ipywidgets>=7.5->evalml) (0.2.5)\n",
      "Requirement already satisfied: threadpoolctl>=2.0.0 in c:\\users\\rohit.pratapwar\\anaconda3\\lib\\site-packages (from scikit-learn>=0.23.1->evalml) (2.1.0)\n",
      "Requirement already satisfied: pyaml>=16.9 in c:\\users\\rohit.pratapwar\\anaconda3\\lib\\site-packages (from scikit-optimize>=0.8.1->evalml) (20.4.0)\n",
      "Requirement already satisfied: numba in c:\\users\\rohit.pratapwar\\anaconda3\\lib\\site-packages (from shap>=0.35.0->evalml) (0.51.2)\n",
      "Requirement already satisfied: slicer==0.0.7 in c:\\users\\rohit.pratapwar\\anaconda3\\lib\\site-packages (from shap>=0.35.0->evalml) (0.0.7)\n",
      "Requirement already satisfied: notebook>=4.4.1 in c:\\users\\rohit.pratapwar\\anaconda3\\lib\\site-packages (from widgetsnbextension~=3.5.0->ipywidgets>=7.5->evalml) (6.2.0)\n",
      "Requirement already satisfied: nbconvert in c:\\users\\rohit.pratapwar\\anaconda3\\lib\\site-packages (from notebook>=4.4.1->widgetsnbextension~=3.5.0->ipywidgets>=7.5->evalml) (6.0.7)\n",
      "Requirement already satisfied: Send2Trash>=1.5.0 in c:\\users\\rohit.pratapwar\\anaconda3\\lib\\site-packages (from notebook>=4.4.1->widgetsnbextension~=3.5.0->ipywidgets>=7.5->evalml) (1.5.0)\n",
      "Requirement already satisfied: terminado>=0.8.3 in c:\\users\\rohit.pratapwar\\anaconda3\\lib\\site-packages (from notebook>=4.4.1->widgetsnbextension~=3.5.0->ipywidgets>=7.5->evalml) (0.9.2)\n",
      "Requirement already satisfied: jinja2 in c:\\users\\rohit.pratapwar\\anaconda3\\lib\\site-packages (from notebook>=4.4.1->widgetsnbextension~=3.5.0->ipywidgets>=7.5->evalml) (2.11.3)\n",
      "Requirement already satisfied: prometheus-client in c:\\users\\rohit.pratapwar\\anaconda3\\lib\\site-packages (from notebook>=4.4.1->widgetsnbextension~=3.5.0->ipywidgets>=7.5->evalml) (0.9.0)\n",
      "Requirement already satisfied: argon2-cffi in c:\\users\\rohit.pratapwar\\anaconda3\\lib\\site-packages (from notebook>=4.4.1->widgetsnbextension~=3.5.0->ipywidgets>=7.5->evalml) (20.1.0)\n",
      "Requirement already satisfied: pywin32>=1.0 in c:\\users\\rohit.pratapwar\\anaconda3\\lib\\site-packages (from jupyter-core->nbformat>=4.2.0->ipywidgets>=7.5->evalml) (227)\n",
      "Requirement already satisfied: pywinpty>=0.5 in c:\\users\\rohit.pratapwar\\anaconda3\\lib\\site-packages (from terminado>=0.8.3->notebook>=4.4.1->widgetsnbextension~=3.5.0->ipywidgets>=7.5->evalml) (0.5.7)\n",
      "Requirement already satisfied: heapdict in c:\\users\\rohit.pratapwar\\anaconda3\\lib\\site-packages (from zict>=0.1.3->distributed>=2.12.0->featuretools>=0.20.0->evalml) (1.0.1)\n",
      "Requirement already satisfied: cffi>=1.0.0 in c:\\users\\rohit.pratapwar\\anaconda3\\lib\\site-packages (from argon2-cffi->notebook>=4.4.1->widgetsnbextension~=3.5.0->ipywidgets>=7.5->evalml) (1.14.4)\n",
      "Requirement already satisfied: pycparser in c:\\users\\rohit.pratapwar\\anaconda3\\lib\\site-packages (from cffi>=1.0.0->argon2-cffi->notebook>=4.4.1->widgetsnbextension~=3.5.0->ipywidgets>=7.5->evalml) (2.20)\n",
      "Requirement already satisfied: zipp>=0.5 in c:\\users\\rohit.pratapwar\\anaconda3\\lib\\site-packages (from importlib-metadata->jsonschema!=2.5.0,>=2.4->nbformat>=4.2.0->ipywidgets>=7.5->evalml) (3.4.0)\n",
      "Requirement already satisfied: MarkupSafe>=0.23 in c:\\users\\rohit.pratapwar\\anaconda3\\lib\\site-packages (from jinja2->notebook>=4.4.1->widgetsnbextension~=3.5.0->ipywidgets>=7.5->evalml) (1.1.1)\n",
      "Requirement already satisfied: bleach in c:\\users\\rohit.pratapwar\\anaconda3\\lib\\site-packages (from nbconvert->notebook>=4.4.1->widgetsnbextension~=3.5.0->ipywidgets>=7.5->evalml) (3.3.0)\n",
      "Requirement already satisfied: pandocfilters>=1.4.1 in c:\\users\\rohit.pratapwar\\anaconda3\\lib\\site-packages (from nbconvert->notebook>=4.4.1->widgetsnbextension~=3.5.0->ipywidgets>=7.5->evalml) (1.4.3)\n",
      "Requirement already satisfied: mistune<2,>=0.8.1 in c:\\users\\rohit.pratapwar\\anaconda3\\lib\\site-packages (from nbconvert->notebook>=4.4.1->widgetsnbextension~=3.5.0->ipywidgets>=7.5->evalml) (0.8.4)\n",
      "Requirement already satisfied: testpath in c:\\users\\rohit.pratapwar\\anaconda3\\lib\\site-packages (from nbconvert->notebook>=4.4.1->widgetsnbextension~=3.5.0->ipywidgets>=7.5->evalml) (0.4.4)\n",
      "Requirement already satisfied: defusedxml in c:\\users\\rohit.pratapwar\\anaconda3\\lib\\site-packages (from nbconvert->notebook>=4.4.1->widgetsnbextension~=3.5.0->ipywidgets>=7.5->evalml) (0.6.0)\n",
      "Requirement already satisfied: jupyterlab-pygments in c:\\users\\rohit.pratapwar\\anaconda3\\lib\\site-packages (from nbconvert->notebook>=4.4.1->widgetsnbextension~=3.5.0->ipywidgets>=7.5->evalml) (0.1.2)\n",
      "Requirement already satisfied: nbclient<0.6.0,>=0.5.0 in c:\\users\\rohit.pratapwar\\anaconda3\\lib\\site-packages (from nbconvert->notebook>=4.4.1->widgetsnbextension~=3.5.0->ipywidgets>=7.5->evalml) (0.5.1)\n",
      "Requirement already satisfied: entrypoints>=0.2.2 in c:\\users\\rohit.pratapwar\\anaconda3\\lib\\site-packages (from nbconvert->notebook>=4.4.1->widgetsnbextension~=3.5.0->ipywidgets>=7.5->evalml) (0.3)\n",
      "Requirement already satisfied: nest-asyncio in c:\\users\\rohit.pratapwar\\anaconda3\\lib\\site-packages (from nbclient<0.6.0,>=0.5.0->nbconvert->notebook>=4.4.1->widgetsnbextension~=3.5.0->ipywidgets>=7.5->evalml) (1.4.3)\n",
      "Requirement already satisfied: async-generator in c:\\users\\rohit.pratapwar\\anaconda3\\lib\\site-packages (from nbclient<0.6.0,>=0.5.0->nbconvert->notebook>=4.4.1->widgetsnbextension~=3.5.0->ipywidgets>=7.5->evalml) (1.10)\n",
      "Requirement already satisfied: webencodings in c:\\users\\rohit.pratapwar\\anaconda3\\lib\\site-packages (from bleach->nbconvert->notebook>=4.4.1->widgetsnbextension~=3.5.0->ipywidgets>=7.5->evalml) (0.5.1)\n",
      "Requirement already satisfied: packaging in c:\\users\\rohit.pratapwar\\anaconda3\\lib\\site-packages (from bleach->nbconvert->notebook>=4.4.1->widgetsnbextension~=3.5.0->ipywidgets>=7.5->evalml) (20.9)\n",
      "Requirement already satisfied: llvmlite<0.35,>=0.34.0.dev0 in c:\\users\\rohit.pratapwar\\anaconda3\\lib\\site-packages (from numba->shap>=0.35.0->evalml) (0.34.0)\n",
      "Installing collected packages: pandas, lightgbm\n",
      "  Attempting uninstall: pandas\n",
      "    Found existing installation: pandas 1.2.4\n",
      "    Uninstalling pandas-1.2.4:\n",
      "      Successfully uninstalled pandas-1.2.4\n",
      "  Attempting uninstall: lightgbm\n",
      "    Found existing installation: lightgbm 2.0.12\n",
      "    Uninstalling lightgbm-2.0.12:\n",
      "      Successfully uninstalled lightgbm-2.0.12\n",
      "Successfully installed lightgbm-3.0.0 pandas-1.2.3\n"
     ]
    }
   ],
   "source": [
    "pip install evalml"
   ]
  },
  {
   "cell_type": "code",
   "execution_count": 6,
   "id": "tender-celtic",
   "metadata": {},
   "outputs": [],
   "source": [
    "from urllib.request import urlopen\n",
    "import pandas as pd\n",
    "\n",
    "input_data = urlopen('https://featurelabs-static.s3.amazonaws.com/spam_text_messages_modified.csv')\n",
    "data = pd.read_csv(input_data)"
   ]
  },
  {
   "cell_type": "code",
   "execution_count": 8,
   "id": "level-vatican",
   "metadata": {},
   "outputs": [
    {
     "data": {
      "text/html": [
       "<div>\n",
       "<style scoped>\n",
       "    .dataframe tbody tr th:only-of-type {\n",
       "        vertical-align: middle;\n",
       "    }\n",
       "\n",
       "    .dataframe tbody tr th {\n",
       "        vertical-align: top;\n",
       "    }\n",
       "\n",
       "    .dataframe thead th {\n",
       "        text-align: right;\n",
       "    }\n",
       "</style>\n",
       "<table border=\"1\" class=\"dataframe\">\n",
       "  <thead>\n",
       "    <tr style=\"text-align: right;\">\n",
       "      <th></th>\n",
       "      <th>Category</th>\n",
       "      <th>Message</th>\n",
       "    </tr>\n",
       "  </thead>\n",
       "  <tbody>\n",
       "    <tr>\n",
       "      <th>0</th>\n",
       "      <td>spam</td>\n",
       "      <td>Free entry in 2 a wkly comp to win FA Cup fina...</td>\n",
       "    </tr>\n",
       "    <tr>\n",
       "      <th>1</th>\n",
       "      <td>spam</td>\n",
       "      <td>FreeMsg Hey there darling it's been 3 week's n...</td>\n",
       "    </tr>\n",
       "    <tr>\n",
       "      <th>2</th>\n",
       "      <td>spam</td>\n",
       "      <td>WINNER!! As a valued network customer you have...</td>\n",
       "    </tr>\n",
       "    <tr>\n",
       "      <th>3</th>\n",
       "      <td>spam</td>\n",
       "      <td>Had your mobile 11 months or more? U R entitle...</td>\n",
       "    </tr>\n",
       "    <tr>\n",
       "      <th>4</th>\n",
       "      <td>spam</td>\n",
       "      <td>SIX chances to win CASH! From 100 to 20,000 po...</td>\n",
       "    </tr>\n",
       "  </tbody>\n",
       "</table>\n",
       "</div>"
      ],
      "text/plain": [
       "  Category                                            Message\n",
       "0     spam  Free entry in 2 a wkly comp to win FA Cup fina...\n",
       "1     spam  FreeMsg Hey there darling it's been 3 week's n...\n",
       "2     spam  WINNER!! As a valued network customer you have...\n",
       "3     spam  Had your mobile 11 months or more? U R entitle...\n",
       "4     spam  SIX chances to win CASH! From 100 to 20,000 po..."
      ]
     },
     "execution_count": 8,
     "metadata": {},
     "output_type": "execute_result"
    }
   ],
   "source": [
    "data.head()"
   ]
  },
  {
   "cell_type": "code",
   "execution_count": 9,
   "id": "israeli-summer",
   "metadata": {},
   "outputs": [],
   "source": [
    "x = data.drop(['Category'],axis=1)\n",
    "y = data['Category']"
   ]
  },
  {
   "cell_type": "code",
   "execution_count": 11,
   "id": "opposed-rebel",
   "metadata": {},
   "outputs": [
    {
     "data": {
      "text/plain": [
       "ham     0.750084\n",
       "spam    0.249916\n",
       "Name: Category, dtype: float64"
      ]
     },
     "execution_count": 11,
     "metadata": {},
     "output_type": "execute_result"
    }
   ],
   "source": [
    "y.value_counts(normalize=True)"
   ]
  },
  {
   "cell_type": "code",
   "execution_count": 12,
   "id": "israeli-cartoon",
   "metadata": {},
   "outputs": [],
   "source": [
    "import evalml"
   ]
  },
  {
   "cell_type": "code",
   "execution_count": 13,
   "id": "facial-eating",
   "metadata": {},
   "outputs": [],
   "source": [
    "features_train,features_test,target_train,target_test = evalml.preprocessing.split_data(x,y,problem_type='binary')"
   ]
  },
  {
   "cell_type": "code",
   "execution_count": 14,
   "id": "hawaiian-timer",
   "metadata": {},
   "outputs": [],
   "source": [
    "from evalml import  AutoMLSearch"
   ]
  },
  {
   "cell_type": "code",
   "execution_count": 16,
   "id": "applied-florist",
   "metadata": {},
   "outputs": [],
   "source": [
    "automl = AutoMLSearch(X_train=features_train,y_train=target_train,problem_type='binary',max_batches=2,optimize_thresholds=True)"
   ]
  },
  {
   "cell_type": "code",
   "execution_count": 17,
   "id": "hazardous-fitting",
   "metadata": {},
   "outputs": [
    {
     "name": "stdout",
     "output_type": "stream",
     "text": [
      "Numerical binary classification target classes must be [0, 1], got [ham, spam] instead\n",
      "Generating pipelines to search over...\n",
      "*****************************\n",
      "* Beginning pipeline search *\n",
      "*****************************\n",
      "\n",
      "Optimizing for Log Loss Binary. \n",
      "Lower score is better.\n",
      "\n",
      "Searching up to 2 batches for a total of 14 pipelines. \n",
      "Allowed model families: catboost, xgboost, linear_model, lightgbm, extra_trees, decision_tree, random_forest\n",
      "\n"
     ]
    },
    {
     "data": {
      "application/vnd.jupyter.widget-view+json": {
       "model_id": "7b506c3033654ababfc0bb94fdbd71e4",
       "version_major": 2,
       "version_minor": 0
      },
      "text/plain": [
       "FigureWidget({\n",
       "    'data': [{'mode': 'lines+markers',\n",
       "              'name': 'Best Score',\n",
       "              'type'…"
      ]
     },
     "metadata": {},
     "output_type": "display_data"
    },
    {
     "name": "stdout",
     "output_type": "stream",
     "text": [
      "Batch 1: (1/14) Mode Baseline Binary Classification P... Elapsed:00:01\n",
      "\tStarting cross validation\n",
      "\tFinished cross validation - mean Log Loss Binary: 8.638\n",
      "Batch 1: (2/14) Logistic Regression Classifier w/ Imp... Elapsed:00:01\n",
      "\tStarting cross validation\n",
      "\tFinished cross validation - mean Log Loss Binary: 0.214\n",
      "High coefficient of variation (cv >= 0.2) within cross validation scores. Logistic Regression Classifier w/ Imputer + Text Featurization Component + Standard Scaler may not perform as estimated on unseen data.\n",
      "Batch 1: (3/14) Random Forest Classifier w/ Imputer +... Elapsed:00:23\n",
      "\tStarting cross validation\n",
      "\tFinished cross validation - mean Log Loss Binary: 0.155\n",
      "High coefficient of variation (cv >= 0.2) within cross validation scores. Random Forest Classifier w/ Imputer + Text Featurization Component may not perform as estimated on unseen data.\n",
      "Batch 1: (4/14) XGBoost Classifier w/ Imputer + Text ... Elapsed:00:41\n",
      "\tStarting cross validation\n",
      "\tFinished cross validation - mean Log Loss Binary: 0.179\n",
      "High coefficient of variation (cv >= 0.2) within cross validation scores. XGBoost Classifier w/ Imputer + Text Featurization Component may not perform as estimated on unseen data.\n",
      "Batch 1: (5/14) CatBoost Classifier w/ Imputer + Text... Elapsed:00:57\n",
      "\tStarting cross validation\n",
      "\tFinished cross validation - mean Log Loss Binary: 0.526\n",
      "Batch 1: (6/14) Elastic Net Classifier w/ Imputer + T... Elapsed:01:13\n",
      "\tStarting cross validation\n",
      "\tFinished cross validation - mean Log Loss Binary: 0.543\n",
      "Batch 1: (7/14) Extra Trees Classifier w/ Imputer + T... Elapsed:01:29\n",
      "\tStarting cross validation\n",
      "\tFinished cross validation - mean Log Loss Binary: 0.252\n",
      "High coefficient of variation (cv >= 0.2) within cross validation scores. Extra Trees Classifier w/ Imputer + Text Featurization Component may not perform as estimated on unseen data.\n",
      "Batch 1: (8/14) LightGBM Classifier w/ Imputer + Text... Elapsed:01:47\n",
      "\tStarting cross validation\n",
      "\tFinished cross validation - mean Log Loss Binary: 0.215\n",
      "High coefficient of variation (cv >= 0.2) within cross validation scores. LightGBM Classifier w/ Imputer + Text Featurization Component may not perform as estimated on unseen data.\n",
      "Batch 1: (9/14) Decision Tree Classifier w/ Imputer +... Elapsed:02:05\n",
      "\tStarting cross validation\n",
      "\tFinished cross validation - mean Log Loss Binary: 0.802\n",
      "High coefficient of variation (cv >= 0.2) within cross validation scores. Decision Tree Classifier w/ Imputer + Text Featurization Component may not perform as estimated on unseen data.\n",
      "Batch 2: (10/14) Random Forest Classifier w/ Imputer +... Elapsed:02:22\n",
      "\tStarting cross validation\n",
      "\tFinished cross validation - mean Log Loss Binary: 0.159\n",
      "High coefficient of variation (cv >= 0.2) within cross validation scores. Random Forest Classifier w/ Imputer + Text Featurization Component may not perform as estimated on unseen data.\n",
      "Batch 2: (11/14) Random Forest Classifier w/ Imputer +... Elapsed:02:51\n",
      "\tStarting cross validation\n",
      "\tFinished cross validation - mean Log Loss Binary: 0.235\n",
      "High coefficient of variation (cv >= 0.2) within cross validation scores. Random Forest Classifier w/ Imputer + Text Featurization Component may not perform as estimated on unseen data.\n",
      "Batch 2: (12/14) Random Forest Classifier w/ Imputer +... Elapsed:03:17\n",
      "\tStarting cross validation\n",
      "\tFinished cross validation - mean Log Loss Binary: 0.233\n",
      "High coefficient of variation (cv >= 0.2) within cross validation scores. Random Forest Classifier w/ Imputer + Text Featurization Component may not perform as estimated on unseen data.\n",
      "Batch 2: (13/14) Random Forest Classifier w/ Imputer +... Elapsed:03:37\n",
      "\tStarting cross validation\n",
      "\tFinished cross validation - mean Log Loss Binary: 0.159\n",
      "High coefficient of variation (cv >= 0.2) within cross validation scores. Random Forest Classifier w/ Imputer + Text Featurization Component may not perform as estimated on unseen data.\n",
      "Batch 2: (14/14) Random Forest Classifier w/ Imputer +... Elapsed:03:59\n",
      "\tStarting cross validation\n",
      "\tFinished cross validation - mean Log Loss Binary: 0.171\n",
      "High coefficient of variation (cv >= 0.2) within cross validation scores. Random Forest Classifier w/ Imputer + Text Featurization Component may not perform as estimated on unseen data.\n",
      "\n",
      "Search finished after 04:22            \n",
      "Best pipeline: Random Forest Classifier w/ Imputer + Text Featurization Component\n",
      "Best pipeline Log Loss Binary: 0.154849\n"
     ]
    }
   ],
   "source": [
    "automl.search()"
   ]
  },
  {
   "cell_type": "code",
   "execution_count": 18,
   "id": "consecutive-detroit",
   "metadata": {},
   "outputs": [
    {
     "data": {
      "text/html": [
       "<div>\n",
       "<style scoped>\n",
       "    .dataframe tbody tr th:only-of-type {\n",
       "        vertical-align: middle;\n",
       "    }\n",
       "\n",
       "    .dataframe tbody tr th {\n",
       "        vertical-align: top;\n",
       "    }\n",
       "\n",
       "    .dataframe thead th {\n",
       "        text-align: right;\n",
       "    }\n",
       "</style>\n",
       "<table border=\"1\" class=\"dataframe\">\n",
       "  <thead>\n",
       "    <tr style=\"text-align: right;\">\n",
       "      <th></th>\n",
       "      <th>id</th>\n",
       "      <th>pipeline_name</th>\n",
       "      <th>score</th>\n",
       "      <th>validation_score</th>\n",
       "      <th>percent_better_than_baseline</th>\n",
       "      <th>high_variance_cv</th>\n",
       "      <th>parameters</th>\n",
       "    </tr>\n",
       "  </thead>\n",
       "  <tbody>\n",
       "    <tr>\n",
       "      <th>0</th>\n",
       "      <td>2</td>\n",
       "      <td>Random Forest Classifier w/ Imputer + Text Fea...</td>\n",
       "      <td>0.154849</td>\n",
       "      <td>0.110302</td>\n",
       "      <td>98.207418</td>\n",
       "      <td>True</td>\n",
       "      <td>{'Imputer': {'categorical_impute_strategy': 'm...</td>\n",
       "    </tr>\n",
       "    <tr>\n",
       "      <th>4</th>\n",
       "      <td>3</td>\n",
       "      <td>XGBoost Classifier w/ Imputer + Text Featuriza...</td>\n",
       "      <td>0.178639</td>\n",
       "      <td>0.113254</td>\n",
       "      <td>97.932010</td>\n",
       "      <td>True</td>\n",
       "      <td>{'Imputer': {'categorical_impute_strategy': 'm...</td>\n",
       "    </tr>\n",
       "    <tr>\n",
       "      <th>5</th>\n",
       "      <td>1</td>\n",
       "      <td>Logistic Regression Classifier w/ Imputer + Te...</td>\n",
       "      <td>0.214011</td>\n",
       "      <td>0.165624</td>\n",
       "      <td>97.522538</td>\n",
       "      <td>True</td>\n",
       "      <td>{'Imputer': {'categorical_impute_strategy': 'm...</td>\n",
       "    </tr>\n",
       "    <tr>\n",
       "      <th>6</th>\n",
       "      <td>7</td>\n",
       "      <td>LightGBM Classifier w/ Imputer + Text Featuriz...</td>\n",
       "      <td>0.214580</td>\n",
       "      <td>0.136260</td>\n",
       "      <td>97.515944</td>\n",
       "      <td>True</td>\n",
       "      <td>{'Imputer': {'categorical_impute_strategy': 'm...</td>\n",
       "    </tr>\n",
       "    <tr>\n",
       "      <th>9</th>\n",
       "      <td>6</td>\n",
       "      <td>Extra Trees Classifier w/ Imputer + Text Featu...</td>\n",
       "      <td>0.252206</td>\n",
       "      <td>0.216198</td>\n",
       "      <td>97.080377</td>\n",
       "      <td>True</td>\n",
       "      <td>{'Imputer': {'categorical_impute_strategy': 'm...</td>\n",
       "    </tr>\n",
       "    <tr>\n",
       "      <th>10</th>\n",
       "      <td>4</td>\n",
       "      <td>CatBoost Classifier w/ Imputer + Text Featuriz...</td>\n",
       "      <td>0.526403</td>\n",
       "      <td>0.512717</td>\n",
       "      <td>93.906174</td>\n",
       "      <td>False</td>\n",
       "      <td>{'Imputer': {'categorical_impute_strategy': 'm...</td>\n",
       "    </tr>\n",
       "    <tr>\n",
       "      <th>11</th>\n",
       "      <td>5</td>\n",
       "      <td>Elastic Net Classifier w/ Imputer + Text Featu...</td>\n",
       "      <td>0.542803</td>\n",
       "      <td>0.529152</td>\n",
       "      <td>93.716325</td>\n",
       "      <td>False</td>\n",
       "      <td>{'Imputer': {'categorical_impute_strategy': 'm...</td>\n",
       "    </tr>\n",
       "    <tr>\n",
       "      <th>12</th>\n",
       "      <td>8</td>\n",
       "      <td>Decision Tree Classifier w/ Imputer + Text Fea...</td>\n",
       "      <td>0.801766</td>\n",
       "      <td>0.555179</td>\n",
       "      <td>90.718481</td>\n",
       "      <td>True</td>\n",
       "      <td>{'Imputer': {'categorical_impute_strategy': 'm...</td>\n",
       "    </tr>\n",
       "    <tr>\n",
       "      <th>13</th>\n",
       "      <td>0</td>\n",
       "      <td>Mode Baseline Binary Classification Pipeline</td>\n",
       "      <td>8.638305</td>\n",
       "      <td>8.623860</td>\n",
       "      <td>0.000000</td>\n",
       "      <td>False</td>\n",
       "      <td>{'Baseline Classifier': {'strategy': 'mode'}}</td>\n",
       "    </tr>\n",
       "  </tbody>\n",
       "</table>\n",
       "</div>"
      ],
      "text/plain": [
       "    id                                      pipeline_name     score  \\\n",
       "0    2  Random Forest Classifier w/ Imputer + Text Fea...  0.154849   \n",
       "4    3  XGBoost Classifier w/ Imputer + Text Featuriza...  0.178639   \n",
       "5    1  Logistic Regression Classifier w/ Imputer + Te...  0.214011   \n",
       "6    7  LightGBM Classifier w/ Imputer + Text Featuriz...  0.214580   \n",
       "9    6  Extra Trees Classifier w/ Imputer + Text Featu...  0.252206   \n",
       "10   4  CatBoost Classifier w/ Imputer + Text Featuriz...  0.526403   \n",
       "11   5  Elastic Net Classifier w/ Imputer + Text Featu...  0.542803   \n",
       "12   8  Decision Tree Classifier w/ Imputer + Text Fea...  0.801766   \n",
       "13   0       Mode Baseline Binary Classification Pipeline  8.638305   \n",
       "\n",
       "    validation_score  percent_better_than_baseline  high_variance_cv  \\\n",
       "0           0.110302                     98.207418              True   \n",
       "4           0.113254                     97.932010              True   \n",
       "5           0.165624                     97.522538              True   \n",
       "6           0.136260                     97.515944              True   \n",
       "9           0.216198                     97.080377              True   \n",
       "10          0.512717                     93.906174             False   \n",
       "11          0.529152                     93.716325             False   \n",
       "12          0.555179                     90.718481              True   \n",
       "13          8.623860                      0.000000             False   \n",
       "\n",
       "                                           parameters  \n",
       "0   {'Imputer': {'categorical_impute_strategy': 'm...  \n",
       "4   {'Imputer': {'categorical_impute_strategy': 'm...  \n",
       "5   {'Imputer': {'categorical_impute_strategy': 'm...  \n",
       "6   {'Imputer': {'categorical_impute_strategy': 'm...  \n",
       "9   {'Imputer': {'categorical_impute_strategy': 'm...  \n",
       "10  {'Imputer': {'categorical_impute_strategy': 'm...  \n",
       "11  {'Imputer': {'categorical_impute_strategy': 'm...  \n",
       "12  {'Imputer': {'categorical_impute_strategy': 'm...  \n",
       "13      {'Baseline Classifier': {'strategy': 'mode'}}  "
      ]
     },
     "execution_count": 18,
     "metadata": {},
     "output_type": "execute_result"
    }
   ],
   "source": [
    "automl.rankings"
   ]
  },
  {
   "cell_type": "code",
   "execution_count": 20,
   "id": "immediate-harassment",
   "metadata": {},
   "outputs": [],
   "source": [
    "best_pipeline  = automl.best_pipeline"
   ]
  },
  {
   "cell_type": "code",
   "execution_count": 22,
   "id": "academic-apollo",
   "metadata": {},
   "outputs": [
    {
     "data": {
      "text/plain": [
       "GeneratedPipelineBinary(parameters={'Imputer':{'categorical_impute_strategy': 'most_frequent', 'numeric_impute_strategy': 'mean', 'categorical_fill_value': None, 'numeric_fill_value': None}, 'Text Featurization Component':{'text_columns': ['Message']}, 'Random Forest Classifier':{'n_estimators': 100, 'max_depth': 6, 'n_jobs': -1},})"
      ]
     },
     "execution_count": 22,
     "metadata": {},
     "output_type": "execute_result"
    }
   ],
   "source": [
    "automl.best_pipeline"
   ]
  },
  {
   "cell_type": "code",
   "execution_count": 21,
   "id": "painted-genome",
   "metadata": {},
   "outputs": [
    {
     "name": "stdout",
     "output_type": "stream",
     "text": [
      "**********************************************************************\n",
      "* Random Forest Classifier w/ Imputer + Text Featurization Component *\n",
      "**********************************************************************\n",
      "\n",
      "Problem Type: binary\n",
      "Model Family: Random Forest\n",
      "\n",
      "Pipeline Steps\n",
      "==============\n",
      "1. Imputer\n",
      "\t * categorical_impute_strategy : most_frequent\n",
      "\t * numeric_impute_strategy : mean\n",
      "\t * categorical_fill_value : None\n",
      "\t * numeric_fill_value : None\n",
      "2. Text Featurization Component\n",
      "\t * text_columns : ['Message']\n",
      "3. Random Forest Classifier\n",
      "\t * n_estimators : 100\n",
      "\t * max_depth : 6\n",
      "\t * n_jobs : -1\n",
      "\n",
      "Training\n",
      "========\n",
      "Training for binary problems.\n",
      "Total training time (including CV): 17.6 seconds\n",
      "\n",
      "Cross Validation\n",
      "----------------\n",
      "             Log Loss Binary  MCC Binary   AUC  Precision    F1  Balanced Accuracy Binary  Accuracy Binary # Training # Validation\n",
      "0                      0.110       0.895 0.987      0.938 0.921                     0.942            0.961   1594.000      797.000\n",
      "1                      0.144       0.854 0.980      0.919 0.888                     0.917            0.946   1594.000      797.000\n",
      "2                      0.210       0.783 0.962      0.839 0.837                     0.891            0.918   1594.000      797.000\n",
      "mean                   0.155       0.844 0.977      0.899 0.882                     0.917            0.942          -            -\n",
      "std                    0.051       0.057 0.013      0.052 0.042                     0.026            0.022          -            -\n",
      "coef of var            0.326       0.067 0.013      0.058 0.048                     0.028            0.023          -            -\n"
     ]
    }
   ],
   "source": [
    "automl.describe_pipeline(automl.rankings.iloc[0][\"id\"])"
   ]
  },
  {
   "cell_type": "code",
   "execution_count": 23,
   "id": "romantic-newman",
   "metadata": {},
   "outputs": [],
   "source": [
    "scores = best_pipeline.score(features_test,target_test,objectives = evalml.objectives.get_core_objectives('binary'))"
   ]
  },
  {
   "cell_type": "code",
   "execution_count": 25,
   "id": "outstanding-animation",
   "metadata": {},
   "outputs": [
    {
     "name": "stdout",
     "output_type": "stream",
     "text": [
      "Accuracy Binary: 0.9732441471571907\n"
     ]
    }
   ],
   "source": [
    "print(f'Accuracy Binary: {scores[\"Accuracy Binary\"]}')"
   ]
  },
  {
   "cell_type": "code",
   "execution_count": 28,
   "id": "entire-printing",
   "metadata": {},
   "outputs": [
    {
     "data": {
      "text/plain": [
       "OrderedDict([('MCC Binary', 0.9278003804626707),\n",
       "             ('Log Loss Binary', 0.1137465525638786),\n",
       "             ('AUC', 0.9823022077397945),\n",
       "             ('Precision', 0.9716312056737588),\n",
       "             ('F1', 0.9448275862068964),\n",
       "             ('Balanced Accuracy Binary', 0.9552772006397513),\n",
       "             ('Accuracy Binary', 0.9732441471571907)])"
      ]
     },
     "execution_count": 28,
     "metadata": {},
     "output_type": "execute_result"
    }
   ],
   "source": [
    "scores"
   ]
  },
  {
   "cell_type": "code",
   "execution_count": 29,
   "id": "funded-democracy",
   "metadata": {},
   "outputs": [],
   "source": [
    "from evalml.utils import infer_feature_types"
   ]
  },
  {
   "cell_type": "code",
   "execution_count": 32,
   "id": "vertical-artist",
   "metadata": {},
   "outputs": [],
   "source": [
    "X = infer_feature_types(x, {'Message': 'Categorical'})"
   ]
  },
  {
   "cell_type": "code",
   "execution_count": 36,
   "id": "marine-pioneer",
   "metadata": {},
   "outputs": [],
   "source": [
    "features_train, features_test, target_train, target_test = evalml.preprocessing.split_data(X, y, problem_type='binary', test_size=0.2)"
   ]
  },
  {
   "cell_type": "code",
   "execution_count": 37,
   "id": "third-contamination",
   "metadata": {},
   "outputs": [
    {
     "name": "stdout",
     "output_type": "stream",
     "text": [
      "Using default limit of max_batches=1.\n",
      "\n",
      "Numerical binary classification target classes must be [0, 1], got [ham, spam] instead\n",
      "Generating pipelines to search over...\n",
      "*****************************\n",
      "* Beginning pipeline search *\n",
      "*****************************\n",
      "\n",
      "Optimizing for Log Loss Binary. \n",
      "Lower score is better.\n",
      "\n",
      "Searching up to 1 batches for a total of 9 pipelines. \n",
      "Allowed model families: catboost, xgboost, linear_model, lightgbm, extra_trees, decision_tree, random_forest\n",
      "\n"
     ]
    },
    {
     "data": {
      "application/vnd.jupyter.widget-view+json": {
       "model_id": "9235daa2eebf4bb89f3ac3ca0b663a95",
       "version_major": 2,
       "version_minor": 0
      },
      "text/plain": [
       "FigureWidget({\n",
       "    'data': [{'mode': 'lines+markers',\n",
       "              'name': 'Best Score',\n",
       "              'type'…"
      ]
     },
     "metadata": {},
     "output_type": "display_data"
    },
    {
     "name": "stdout",
     "output_type": "stream",
     "text": [
      "Batch 1: (1/9) Mode Baseline Binary Classification P... Elapsed:00:00\n",
      "\tStarting cross validation\n",
      "\tFinished cross validation - mean Log Loss Binary: 8.638\n",
      "Batch 1: (2/9) Logistic Regression Classifier w/ Imp... Elapsed:00:00\n",
      "\tStarting cross validation\n",
      "\tFinished cross validation - mean Log Loss Binary: 0.561\n",
      "Batch 1: (3/9) Random Forest Classifier w/ Imputer +... Elapsed:00:06\n",
      "\tStarting cross validation\n",
      "\tFinished cross validation - mean Log Loss Binary: 0.561\n",
      "Batch 1: (4/9) XGBoost Classifier w/ Imputer + One H... Elapsed:00:09\n",
      "\tStarting cross validation\n",
      "\tFinished cross validation - mean Log Loss Binary: 0.562\n",
      "Batch 1: (5/9) CatBoost Classifier w/ Imputer           Elapsed:00:09\n",
      "\tStarting cross validation\n",
      "\tFinished cross validation - mean Log Loss Binary: 0.622\n",
      "Batch 1: (6/9) Elastic Net Classifier w/ Imputer + O... Elapsed:00:11\n",
      "\tStarting cross validation\n",
      "\tFinished cross validation - mean Log Loss Binary: 0.563\n",
      "Batch 1: (7/9) Extra Trees Classifier w/ Imputer + O... Elapsed:00:11\n",
      "\tStarting cross validation\n",
      "\tFinished cross validation - mean Log Loss Binary: 0.561\n",
      "Batch 1: (8/9) LightGBM Classifier w/ Imputer + One ... Elapsed:00:13\n",
      "\tStarting cross validation\n",
      "\tFinished cross validation - mean Log Loss Binary: 0.562\n",
      "Batch 1: (9/9) Decision Tree Classifier w/ Imputer +... Elapsed:00:14\n",
      "\tStarting cross validation\n",
      "\tFinished cross validation - mean Log Loss Binary: 0.561\n",
      "\n",
      "Search finished after 00:15            \n",
      "Best pipeline: Logistic Regression Classifier w/ Imputer + One Hot Encoder + Standard Scaler\n",
      "Best pipeline Log Loss Binary: 0.560630\n"
     ]
    }
   ],
   "source": [
    "automl_no_text = AutoMLSearch(X_train=features_train, y_train=target_train,problem_type='binary')\n",
    "automl_no_text.search()"
   ]
  },
  {
   "cell_type": "code",
   "execution_count": 38,
   "id": "molecular-daniel",
   "metadata": {},
   "outputs": [],
   "source": [
    "best_pipeline_no_text = automl_no_text.best_pipeline\n",
    "scores = best_pipeline_no_text.score(features_test,target_test,objectives = evalml.objectives.get_core_objectives('binary'))"
   ]
  },
  {
   "cell_type": "code",
   "execution_count": 39,
   "id": "pleasant-parameter",
   "metadata": {},
   "outputs": [
    {
     "data": {
      "text/plain": [
       "OrderedDict([('MCC Binary', 0.0710465299061946),\n",
       "             ('Log Loss Binary', 0.5576891229036224),\n",
       "             ('AUC', 0.5066740407467751),\n",
       "             ('Precision', 1.0),\n",
       "             ('F1', 0.013333333333333332),\n",
       "             ('Balanced Accuracy Binary', 0.5033557046979866),\n",
       "             ('Accuracy Binary', 0.7525083612040134)])"
      ]
     },
     "execution_count": 39,
     "metadata": {},
     "output_type": "execute_result"
    }
   ],
   "source": [
    "scores"
   ]
  },
  {
   "cell_type": "code",
   "execution_count": 41,
   "id": "racial-orientation",
   "metadata": {},
   "outputs": [
    {
     "data": {
      "text/html": [
       "<div>\n",
       "<style scoped>\n",
       "    .dataframe tbody tr th:only-of-type {\n",
       "        vertical-align: middle;\n",
       "    }\n",
       "\n",
       "    .dataframe tbody tr th {\n",
       "        vertical-align: top;\n",
       "    }\n",
       "\n",
       "    .dataframe thead th {\n",
       "        text-align: right;\n",
       "    }\n",
       "</style>\n",
       "<table border=\"1\" class=\"dataframe\">\n",
       "  <thead>\n",
       "    <tr style=\"text-align: right;\">\n",
       "      <th></th>\n",
       "      <th>id</th>\n",
       "      <th>pipeline_name</th>\n",
       "      <th>score</th>\n",
       "      <th>validation_score</th>\n",
       "      <th>percent_better_than_baseline</th>\n",
       "      <th>high_variance_cv</th>\n",
       "      <th>parameters</th>\n",
       "    </tr>\n",
       "  </thead>\n",
       "  <tbody>\n",
       "    <tr>\n",
       "      <th>0</th>\n",
       "      <td>1</td>\n",
       "      <td>Logistic Regression Classifier w/ Imputer + On...</td>\n",
       "      <td>0.560630</td>\n",
       "      <td>0.558141</td>\n",
       "      <td>93.509952</td>\n",
       "      <td>False</td>\n",
       "      <td>{'Imputer': {'categorical_impute_strategy': 'm...</td>\n",
       "    </tr>\n",
       "    <tr>\n",
       "      <th>1</th>\n",
       "      <td>2</td>\n",
       "      <td>Random Forest Classifier w/ Imputer + One Hot ...</td>\n",
       "      <td>0.561164</td>\n",
       "      <td>0.559126</td>\n",
       "      <td>93.503770</td>\n",
       "      <td>False</td>\n",
       "      <td>{'Imputer': {'categorical_impute_strategy': 'm...</td>\n",
       "    </tr>\n",
       "    <tr>\n",
       "      <th>2</th>\n",
       "      <td>6</td>\n",
       "      <td>Extra Trees Classifier w/ Imputer + One Hot En...</td>\n",
       "      <td>0.561178</td>\n",
       "      <td>0.559042</td>\n",
       "      <td>93.503610</td>\n",
       "      <td>False</td>\n",
       "      <td>{'Imputer': {'categorical_impute_strategy': 'm...</td>\n",
       "    </tr>\n",
       "    <tr>\n",
       "      <th>3</th>\n",
       "      <td>8</td>\n",
       "      <td>Decision Tree Classifier w/ Imputer + One Hot ...</td>\n",
       "      <td>0.561313</td>\n",
       "      <td>0.560255</td>\n",
       "      <td>93.502042</td>\n",
       "      <td>False</td>\n",
       "      <td>{'Imputer': {'categorical_impute_strategy': 'm...</td>\n",
       "    </tr>\n",
       "    <tr>\n",
       "      <th>4</th>\n",
       "      <td>3</td>\n",
       "      <td>XGBoost Classifier w/ Imputer + One Hot Encoder</td>\n",
       "      <td>0.562197</td>\n",
       "      <td>0.561991</td>\n",
       "      <td>93.491811</td>\n",
       "      <td>False</td>\n",
       "      <td>{'Imputer': {'categorical_impute_strategy': 'm...</td>\n",
       "    </tr>\n",
       "    <tr>\n",
       "      <th>5</th>\n",
       "      <td>7</td>\n",
       "      <td>LightGBM Classifier w/ Imputer + One Hot Encoder</td>\n",
       "      <td>0.562451</td>\n",
       "      <td>0.561991</td>\n",
       "      <td>93.488872</td>\n",
       "      <td>False</td>\n",
       "      <td>{'Imputer': {'categorical_impute_strategy': 'm...</td>\n",
       "    </tr>\n",
       "    <tr>\n",
       "      <th>6</th>\n",
       "      <td>5</td>\n",
       "      <td>Elastic Net Classifier w/ Imputer + One Hot En...</td>\n",
       "      <td>0.562556</td>\n",
       "      <td>0.562070</td>\n",
       "      <td>93.487658</td>\n",
       "      <td>False</td>\n",
       "      <td>{'Imputer': {'categorical_impute_strategy': 'm...</td>\n",
       "    </tr>\n",
       "    <tr>\n",
       "      <th>7</th>\n",
       "      <td>4</td>\n",
       "      <td>CatBoost Classifier w/ Imputer</td>\n",
       "      <td>0.622449</td>\n",
       "      <td>0.622812</td>\n",
       "      <td>92.794318</td>\n",
       "      <td>False</td>\n",
       "      <td>{'Imputer': {'categorical_impute_strategy': 'm...</td>\n",
       "    </tr>\n",
       "    <tr>\n",
       "      <th>8</th>\n",
       "      <td>0</td>\n",
       "      <td>Mode Baseline Binary Classification Pipeline</td>\n",
       "      <td>8.638305</td>\n",
       "      <td>8.623860</td>\n",
       "      <td>0.000000</td>\n",
       "      <td>False</td>\n",
       "      <td>{'Baseline Classifier': {'strategy': 'mode'}}</td>\n",
       "    </tr>\n",
       "  </tbody>\n",
       "</table>\n",
       "</div>"
      ],
      "text/plain": [
       "   id                                      pipeline_name     score  \\\n",
       "0   1  Logistic Regression Classifier w/ Imputer + On...  0.560630   \n",
       "1   2  Random Forest Classifier w/ Imputer + One Hot ...  0.561164   \n",
       "2   6  Extra Trees Classifier w/ Imputer + One Hot En...  0.561178   \n",
       "3   8  Decision Tree Classifier w/ Imputer + One Hot ...  0.561313   \n",
       "4   3    XGBoost Classifier w/ Imputer + One Hot Encoder  0.562197   \n",
       "5   7   LightGBM Classifier w/ Imputer + One Hot Encoder  0.562451   \n",
       "6   5  Elastic Net Classifier w/ Imputer + One Hot En...  0.562556   \n",
       "7   4                     CatBoost Classifier w/ Imputer  0.622449   \n",
       "8   0       Mode Baseline Binary Classification Pipeline  8.638305   \n",
       "\n",
       "   validation_score  percent_better_than_baseline  high_variance_cv  \\\n",
       "0          0.558141                     93.509952             False   \n",
       "1          0.559126                     93.503770             False   \n",
       "2          0.559042                     93.503610             False   \n",
       "3          0.560255                     93.502042             False   \n",
       "4          0.561991                     93.491811             False   \n",
       "5          0.561991                     93.488872             False   \n",
       "6          0.562070                     93.487658             False   \n",
       "7          0.622812                     92.794318             False   \n",
       "8          8.623860                      0.000000             False   \n",
       "\n",
       "                                          parameters  \n",
       "0  {'Imputer': {'categorical_impute_strategy': 'm...  \n",
       "1  {'Imputer': {'categorical_impute_strategy': 'm...  \n",
       "2  {'Imputer': {'categorical_impute_strategy': 'm...  \n",
       "3  {'Imputer': {'categorical_impute_strategy': 'm...  \n",
       "4  {'Imputer': {'categorical_impute_strategy': 'm...  \n",
       "5  {'Imputer': {'categorical_impute_strategy': 'm...  \n",
       "6  {'Imputer': {'categorical_impute_strategy': 'm...  \n",
       "7  {'Imputer': {'categorical_impute_strategy': 'm...  \n",
       "8      {'Baseline Classifier': {'strategy': 'mode'}}  "
      ]
     },
     "execution_count": 41,
     "metadata": {},
     "output_type": "execute_result"
    }
   ],
   "source": [
    "automl_no_text.rankings"
   ]
  },
  {
   "cell_type": "code",
   "execution_count": null,
   "id": "corresponding-cabin",
   "metadata": {},
   "outputs": [],
   "source": []
  }
 ],
 "metadata": {
  "kernelspec": {
   "display_name": "Python 3",
   "language": "python",
   "name": "python3"
  },
  "language_info": {
   "codemirror_mode": {
    "name": "ipython",
    "version": 3
   },
   "file_extension": ".py",
   "mimetype": "text/x-python",
   "name": "python",
   "nbconvert_exporter": "python",
   "pygments_lexer": "ipython3",
   "version": "3.7.9"
  }
 },
 "nbformat": 4,
 "nbformat_minor": 5
}
